{
 "cells": [
  {
   "cell_type": "markdown",
   "metadata": {
    "collapsed": true
   },
   "source": [
    "# Language Translation\n",
    "In this project, you’re going to take a peek into the realm of neural network machine translation.  You’ll be training a sequence to sequence model on a dataset of English and French sentences that can translate new sentences from English to French.\n",
    "## Get the Data\n",
    "Since translating the whole language of English to French will take lots of time to train, we have provided you with a small portion of the English corpus."
   ]
  },
  {
   "cell_type": "code",
   "execution_count": 1,
   "metadata": {
    "collapsed": true
   },
   "outputs": [],
   "source": [
    "\"\"\"\n",
    "DON'T MODIFY ANYTHING IN THIS CELL\n",
    "\"\"\"\n",
    "import helper\n",
    "import problem_unittests as tests\n",
    "\n",
    "source_path = 'data/small_vocab_en'\n",
    "target_path = 'data/small_vocab_fr'\n",
    "source_text = helper.load_data(source_path)\n",
    "target_text = helper.load_data(target_path)"
   ]
  },
  {
   "cell_type": "markdown",
   "metadata": {},
   "source": [
    "## Explore the Data\n",
    "Play around with view_sentence_range to view different parts of the data."
   ]
  },
  {
   "cell_type": "code",
   "execution_count": 2,
   "metadata": {},
   "outputs": [
    {
     "name": "stdout",
     "output_type": "stream",
     "text": [
      "Dataset Stats\n",
      "Roughly the number of unique words: 227\n",
      "Number of sentences: 137861\n",
      "Average number of words in a sentence: 13.225277634719028\n",
      "\n",
      "English sentences 0 to 10:\n",
      "new jersey is sometimes quiet during autumn , and it is snowy in april .\n",
      "the united states is usually chilly during july , and it is usually freezing in november .\n",
      "california is usually quiet during march , and it is usually hot in june .\n",
      "the united states is sometimes mild during june , and it is cold in september .\n",
      "your least liked fruit is the grape , but my least liked is the apple .\n",
      "his favorite fruit is the orange , but my favorite is the grape .\n",
      "paris is relaxing during december , but it is usually chilly in july .\n",
      "new jersey is busy during spring , and it is never hot in march .\n",
      "our least liked fruit is the lemon , but my least liked is the grape .\n",
      "the united states is sometimes busy during january , and it is sometimes warm in november .\n",
      "\n",
      "French sentences 0 to 10:\n",
      "new jersey est parfois calme pendant l' automne , et il est neigeux en avril .\n",
      "les états-unis est généralement froid en juillet , et il gèle habituellement en novembre .\n",
      "california est généralement calme en mars , et il est généralement chaud en juin .\n",
      "les états-unis est parfois légère en juin , et il fait froid en septembre .\n",
      "votre moins aimé fruit est le raisin , mais mon moins aimé est la pomme .\n",
      "son fruit préféré est l'orange , mais mon préféré est le raisin .\n",
      "paris est relaxant en décembre , mais il est généralement froid en juillet .\n",
      "new jersey est occupé au printemps , et il est jamais chaude en mars .\n",
      "notre fruit est moins aimé le citron , mais mon moins aimé est le raisin .\n",
      "les états-unis est parfois occupé en janvier , et il est parfois chaud en novembre .\n"
     ]
    }
   ],
   "source": [
    "view_sentence_range = (0, 10)\n",
    "\n",
    "\"\"\"\n",
    "DON'T MODIFY ANYTHING IN THIS CELL\n",
    "\"\"\"\n",
    "import numpy as np\n",
    "\n",
    "print('Dataset Stats')\n",
    "print('Roughly the number of unique words: {}'.format(len({word: None for word in source_text.split()})))\n",
    "\n",
    "sentences = source_text.split('\\n')\n",
    "word_counts = [len(sentence.split()) for sentence in sentences]\n",
    "print('Number of sentences: {}'.format(len(sentences)))\n",
    "print('Average number of words in a sentence: {}'.format(np.average(word_counts)))\n",
    "\n",
    "print()\n",
    "print('English sentences {} to {}:'.format(*view_sentence_range))\n",
    "print('\\n'.join(source_text.split('\\n')[view_sentence_range[0]:view_sentence_range[1]]))\n",
    "print()\n",
    "print('French sentences {} to {}:'.format(*view_sentence_range))\n",
    "print('\\n'.join(target_text.split('\\n')[view_sentence_range[0]:view_sentence_range[1]]))"
   ]
  },
  {
   "cell_type": "markdown",
   "metadata": {},
   "source": [
    "## Implement Preprocessing Function\n",
    "### Text to Word Ids\n",
    "As you did with other RNNs, you must turn the text into a number so the computer can understand it. In the function `text_to_ids()`, you'll turn `source_text` and `target_text` from words to ids.  However, you need to add the `<EOS>` word id at the end of `target_text`.  This will help the neural network predict when the sentence should end.\n",
    "\n",
    "You can get the `<EOS>` word id by doing:\n",
    "```python\n",
    "target_vocab_to_int['<EOS>']\n",
    "```\n",
    "You can get other word ids using `source_vocab_to_int` and `target_vocab_to_int`."
   ]
  },
  {
   "cell_type": "code",
   "execution_count": 3,
   "metadata": {},
   "outputs": [
    {
     "name": "stdout",
     "output_type": "stream",
     "text": [
      "Tests Passed\n"
     ]
    }
   ],
   "source": [
    "def text_to_ids(source_text, target_text, source_vocab_to_int, target_vocab_to_int):\n",
    "    \"\"\"\n",
    "    Convert source and target text to proper word ids\n",
    "    :param source_text: String that contains all the source text.\n",
    "    :param target_text: String that contains all the target text.\n",
    "    :param source_vocab_to_int: Dictionary to go from the source words to an id\n",
    "    :param target_vocab_to_int: Dictionary to go from the target words to an id\n",
    "    :return: A tuple of lists (source_id_text, target_id_text)\n",
    "    \"\"\"\n",
    "    # TODO: Implement Function\n",
    "    \n",
    "    source_id_text, target_id_text = [], []\n",
    "    source_sentences, target_sentences = source_text.split('\\n'), target_text.split('\\n')\n",
    "    \n",
    "    for src_sent, trg_sent in zip(source_sentences, target_sentences):\n",
    "        source_id_text.append([source_vocab_to_int[w] for w in src_sent.split()])\n",
    "        target_id_text.append([target_vocab_to_int[w] for w in trg_sent.split()] + [target_vocab_to_int['<EOS>']])\n",
    "    return source_id_text, target_id_text\n",
    "\n",
    "\"\"\"\n",
    "DON'T MODIFY ANYTHING IN THIS CELL THAT IS BELOW THIS LINE\n",
    "\"\"\"\n",
    "tests.test_text_to_ids(text_to_ids)"
   ]
  },
  {
   "cell_type": "markdown",
   "metadata": {},
   "source": [
    "### Preprocess all the data and save it\n",
    "Running the code cell below will preprocess all the data and save it to file."
   ]
  },
  {
   "cell_type": "code",
   "execution_count": 4,
   "metadata": {
    "collapsed": true
   },
   "outputs": [],
   "source": [
    "\"\"\"\n",
    "DON'T MODIFY ANYTHING IN THIS CELL\n",
    "\"\"\"\n",
    "helper.preprocess_and_save_data(source_path, target_path, text_to_ids)"
   ]
  },
  {
   "cell_type": "markdown",
   "metadata": {},
   "source": [
    "# Check Point\n",
    "This is your first checkpoint. If you ever decide to come back to this notebook or have to restart the notebook, you can start from here. The preprocessed data has been saved to disk."
   ]
  },
  {
   "cell_type": "code",
   "execution_count": 5,
   "metadata": {
    "collapsed": true
   },
   "outputs": [],
   "source": [
    "\"\"\"\n",
    "DON'T MODIFY ANYTHING IN THIS CELL\n",
    "\"\"\"\n",
    "import numpy as np\n",
    "import helper\n",
    "import problem_unittests as tests\n",
    "\n",
    "(source_int_text, target_int_text), (source_vocab_to_int, target_vocab_to_int), _ = helper.load_preprocess()"
   ]
  },
  {
   "cell_type": "markdown",
   "metadata": {},
   "source": [
    "### Check the Version of TensorFlow and Access to GPU\n",
    "This will check to make sure you have the correct version of TensorFlow and access to a GPU"
   ]
  },
  {
   "cell_type": "code",
   "execution_count": 6,
   "metadata": {},
   "outputs": [
    {
     "name": "stdout",
     "output_type": "stream",
     "text": [
      "TensorFlow Version: 1.1.0\n",
      "Default GPU Device: /gpu:0\n"
     ]
    }
   ],
   "source": [
    "\"\"\"\n",
    "DON'T MODIFY ANYTHING IN THIS CELL\n",
    "\"\"\"\n",
    "from distutils.version import LooseVersion\n",
    "import warnings\n",
    "import tensorflow as tf\n",
    "from tensorflow.python.layers.core import Dense\n",
    "\n",
    "# Check TensorFlow Version\n",
    "assert LooseVersion(tf.__version__) >= LooseVersion('1.1'), 'Please use TensorFlow version 1.1 or newer'\n",
    "print('TensorFlow Version: {}'.format(tf.__version__))\n",
    "\n",
    "# Check for a GPU\n",
    "if not tf.test.gpu_device_name():\n",
    "    warnings.warn('No GPU found. Please use a GPU to train your neural network.')\n",
    "else:\n",
    "    print('Default GPU Device: {}'.format(tf.test.gpu_device_name()))"
   ]
  },
  {
   "cell_type": "markdown",
   "metadata": {},
   "source": [
    "## Build the Neural Network\n",
    "You'll build the components necessary to build a Sequence-to-Sequence model by implementing the following functions below:\n",
    "- `model_inputs`\n",
    "- `process_decoder_input`\n",
    "- `encoding_layer`\n",
    "- `decoding_layer_train`\n",
    "- `decoding_layer_infer`\n",
    "- `decoding_layer`\n",
    "- `seq2seq_model`\n",
    "\n",
    "### Input\n",
    "Implement the `model_inputs()` function to create TF Placeholders for the Neural Network. It should create the following placeholders:\n",
    "\n",
    "- Input text placeholder named \"input\" using the TF Placeholder name parameter with rank 2.\n",
    "- Targets placeholder with rank 2.\n",
    "- Learning rate placeholder with rank 0.\n",
    "- Keep probability placeholder named \"keep_prob\" using the TF Placeholder name parameter with rank 0.\n",
    "- Target sequence length placeholder named \"target_sequence_length\" with rank 1\n",
    "- Max target sequence length tensor named \"max_target_len\" getting its value from applying tf.reduce_max on the target_sequence_length placeholder. Rank 0.\n",
    "- Source sequence length placeholder named \"source_sequence_length\" with rank 1\n",
    "\n",
    "Return the placeholders in the following the tuple (input, targets, learning rate, keep probability, target sequence length, max target sequence length, source sequence length)"
   ]
  },
  {
   "cell_type": "code",
   "execution_count": 7,
   "metadata": {},
   "outputs": [
    {
     "name": "stdout",
     "output_type": "stream",
     "text": [
      "Tests Passed\n"
     ]
    }
   ],
   "source": [
    "def model_inputs():\n",
    "    \"\"\"\n",
    "    Create TF Placeholders for input, targets, learning rate, and lengths of source and target sequences.\n",
    "    :return: Tuple (input, targets, learning rate, keep probability, target sequence length,\n",
    "    max target sequence length, source sequence length)\n",
    "    \"\"\"\n",
    "    # TODO: Implement Function\n",
    "    input = tf.placeholder(tf.int32, [None, None], name='input')\n",
    "    targets = tf.placeholder(tf.int32, [None, None], name='targets')\n",
    "    lr = tf.placeholder(tf.float32, name='lr')\n",
    "    keep_prob = tf.placeholder(tf.float32, name='keep_prob')\n",
    "    trg_seq_len = tf.placeholder(tf.int32, (None, ), name='target_sequence_length')\n",
    "    max_trg_seq_len = tf.reduce_max(trg_seq_len, name='max_target_len')\n",
    "    src_seq_len = tf.placeholder(tf.int32, (None,), name='source_sequence_length')\n",
    "    return input, targets, lr, keep_prob, trg_seq_len, max_trg_seq_len, src_seq_len\n",
    "\n",
    "\"\"\"\n",
    "DON'T MODIFY ANYTHING IN THIS CELL THAT IS BELOW THIS LINE\n",
    "\"\"\"\n",
    "tests.test_model_inputs(model_inputs)"
   ]
  },
  {
   "cell_type": "markdown",
   "metadata": {},
   "source": [
    "### Process Decoder Input\n",
    "Implement `process_decoder_input` by removing the last word id from each batch in `target_data` and concat the GO ID to the begining of each batch."
   ]
  },
  {
   "cell_type": "code",
   "execution_count": 8,
   "metadata": {},
   "outputs": [
    {
     "name": "stdout",
     "output_type": "stream",
     "text": [
      "Tests Passed\n"
     ]
    }
   ],
   "source": [
    "def process_decoder_input(target_data, target_vocab_to_int, batch_size):\n",
    "    \"\"\"\n",
    "    Preprocess target data for encoding\n",
    "    :param target_data: Target Placehoder\n",
    "    :param target_vocab_to_int: Dictionary to go from the target words to an id\n",
    "    :param batch_size: Batch Size\n",
    "    :return: Preprocessed target data\n",
    "    \"\"\"\n",
    "    # TODO: Implement Function\n",
    "    ending = tf.strided_slice(target_data, [0,0], [batch_size, -1], [1,1])\n",
    "    dec_input = tf.concat([tf.fill([batch_size,1],target_vocab_to_int['<GO>']),ending],1)\n",
    "    return dec_input\n",
    "\n",
    "\"\"\"\n",
    "DON'T MODIFY ANYTHING IN THIS CELL THAT IS BELOW THIS LINE\n",
    "\"\"\"\n",
    "tests.test_process_encoding_input(process_decoder_input)"
   ]
  },
  {
   "cell_type": "markdown",
   "metadata": {},
   "source": [
    "### Encoding\n",
    "Implement `encoding_layer()` to create a Encoder RNN layer:\n",
    " * Embed the encoder input using [`tf.contrib.layers.embed_sequence`](https://www.tensorflow.org/api_docs/python/tf/contrib/layers/embed_sequence)\n",
    " * Construct a [stacked](https://github.com/tensorflow/tensorflow/blob/6947f65a374ebf29e74bb71e36fd82760056d82c/tensorflow/docs_src/tutorials/recurrent.md#stacking-multiple-lstms) [`tf.contrib.rnn.LSTMCell`](https://www.tensorflow.org/api_docs/python/tf/contrib/rnn/LSTMCell) wrapped in a [`tf.contrib.rnn.DropoutWrapper`](https://www.tensorflow.org/api_docs/python/tf/contrib/rnn/DropoutWrapper)\n",
    " * Pass cell and embedded input to [`tf.nn.dynamic_rnn()`](https://www.tensorflow.org/api_docs/python/tf/nn/dynamic_rnn)"
   ]
  },
  {
   "cell_type": "code",
   "execution_count": 9,
   "metadata": {
    "scrolled": false
   },
   "outputs": [
    {
     "name": "stdout",
     "output_type": "stream",
     "text": [
      "Tests Passed\n"
     ]
    }
   ],
   "source": [
    "from imp import reload\n",
    "reload(tests)\n",
    "\n",
    "def encoding_layer(rnn_inputs, rnn_size, num_layers, keep_prob, \n",
    "                   source_sequence_length, source_vocab_size, \n",
    "                   encoding_embedding_size):\n",
    "    \"\"\"\n",
    "    Create encoding layer\n",
    "    :param rnn_inputs: Inputs for the RNN\n",
    "    :param rnn_size: RNN Size\n",
    "    :param num_layers: Number of layers\n",
    "    :param keep_prob: Dropout keep probability\n",
    "    :param source_sequence_length: a list of the lengths of each sequence in the batch\n",
    "    :param source_vocab_size: vocabulary size of source data\n",
    "    :param encoding_embedding_size: embedding size of source data\n",
    "    :return: tuple (RNN output, RNN state)\n",
    "    \"\"\"\n",
    "    # TODO: Implement Function\n",
    "    enc_emb_input = tf.contrib.layers.embed_sequence(rnn_inputs, source_vocab_size, encoding_embedding_size)\n",
    "    \n",
    "    def make_cell(rnn_size, keep_prob):\n",
    "        enc_cell = tf.contrib.rnn.LSTMCell(rnn_size, initializer=tf.random_uniform_initializer(-0.1,0.1,seed=2))\n",
    "        drop = tf.contrib.rnn.DropoutWrapper(enc_cell, output_keep_prob=keep_prob)\n",
    "        return drop\n",
    "    \n",
    "    enc_cell = tf.contrib.rnn.MultiRNNCell([make_cell(rnn_size, keep_prob) for _ in range(num_layers)])\n",
    "    enc_output, enc_state = tf.nn.dynamic_rnn(enc_cell, enc_emb_input, sequence_length=source_sequence_length, dtype=tf.float32)\n",
    "    return enc_output, enc_state\n",
    "\n",
    "\"\"\"\n",
    "DON'T MODIFY ANYTHING IN THIS CELL THAT IS BELOW THIS LINE\n",
    "\"\"\"\n",
    "tests.test_encoding_layer(encoding_layer)"
   ]
  },
  {
   "cell_type": "markdown",
   "metadata": {},
   "source": [
    "### Decoding - Training\n",
    "Create a training decoding layer:\n",
    "* Create a [`tf.contrib.seq2seq.TrainingHelper`](https://www.tensorflow.org/api_docs/python/tf/contrib/seq2seq/TrainingHelper) \n",
    "* Create a [`tf.contrib.seq2seq.BasicDecoder`](https://www.tensorflow.org/api_docs/python/tf/contrib/seq2seq/BasicDecoder)\n",
    "* Obtain the decoder outputs from [`tf.contrib.seq2seq.dynamic_decode`](https://www.tensorflow.org/api_docs/python/tf/contrib/seq2seq/dynamic_decode)"
   ]
  },
  {
   "cell_type": "code",
   "execution_count": 10,
   "metadata": {},
   "outputs": [
    {
     "name": "stdout",
     "output_type": "stream",
     "text": [
      "Tests Passed\n"
     ]
    }
   ],
   "source": [
    "\n",
    "def decoding_layer_train(encoder_state, dec_cell, dec_embed_input, \n",
    "                         target_sequence_length, max_summary_length, \n",
    "                         output_layer, keep_prob):\n",
    "    \"\"\"\n",
    "    Create a decoding layer for training\n",
    "    :param encoder_state: Encoder State\n",
    "    :param dec_cell: Decoder RNN Cell\n",
    "    :param dec_embed_input: Decoder embedded input\n",
    "    :param target_sequence_length: The lengths of each sequence in the target batch\n",
    "    :param max_summary_length: The length of the longest sequence in the batch\n",
    "    :param output_layer: Function to apply the output layer\n",
    "    :param keep_prob: Dropout keep probability\n",
    "    :return: BasicDecoderOutput containing training logits and sample_id\n",
    "    \"\"\"\n",
    "    # TODO: Implement Function\n",
    "# remove dropout    drop_dec_cell = tf.contrib.rnn.DropoutWrapper(dec_cell, output_keep_prob=keep_prob)\n",
    "    trn_helper = tf.contrib.seq2seq.TrainingHelper(inputs=dec_embed_input, sequence_length=target_sequence_length, time_major=False)\n",
    "    trn_decoder = tf.contrib.seq2seq.BasicDecoder(dec_cell, trn_helper, encoder_state, output_layer)\n",
    "    trn_decoder_output = tf.contrib.seq2seq.dynamic_decode(trn_decoder, impute_finished=True, maximum_iterations=max_summary_length)[0]\n",
    "    return trn_decoder_output\n",
    "\n",
    "\n",
    "\n",
    "\"\"\"\n",
    "DON'T MODIFY ANYTHING IN THIS CELL THAT IS BELOW THIS LINE\n",
    "\"\"\"\n",
    "tests.test_decoding_layer_train(decoding_layer_train)"
   ]
  },
  {
   "cell_type": "markdown",
   "metadata": {},
   "source": [
    "### Decoding - Inference\n",
    "Create inference decoder:\n",
    "* Create a [`tf.contrib.seq2seq.GreedyEmbeddingHelper`](https://www.tensorflow.org/api_docs/python/tf/contrib/seq2seq/GreedyEmbeddingHelper)\n",
    "* Create a [`tf.contrib.seq2seq.BasicDecoder`](https://www.tensorflow.org/api_docs/python/tf/contrib/seq2seq/BasicDecoder)\n",
    "* Obtain the decoder outputs from [`tf.contrib.seq2seq.dynamic_decode`](https://www.tensorflow.org/api_docs/python/tf/contrib/seq2seq/dynamic_decode)"
   ]
  },
  {
   "cell_type": "code",
   "execution_count": 11,
   "metadata": {
    "scrolled": true
   },
   "outputs": [
    {
     "name": "stdout",
     "output_type": "stream",
     "text": [
      "Tests Passed\n"
     ]
    }
   ],
   "source": [
    "def decoding_layer_infer(encoder_state, dec_cell, dec_embeddings, start_of_sequence_id,\n",
    "                         end_of_sequence_id, max_target_sequence_length,\n",
    "                         vocab_size, output_layer, batch_size, keep_prob):\n",
    "    \"\"\"\n",
    "    Create a decoding layer for inference\n",
    "    :param encoder_state: Encoder state\n",
    "    :param dec_cell: Decoder RNN Cell\n",
    "    :param dec_embeddings: Decoder embeddings\n",
    "    :param start_of_sequence_id: GO ID\n",
    "    :param end_of_sequence_id: EOS Id\n",
    "    :param max_target_sequence_length: Maximum length of target sequences\n",
    "    :param vocab_size: Size of decoder/target vocabulary\n",
    "    :param decoding_scope: TenorFlow Variable Scope for decoding\n",
    "    :param output_layer: Function to apply the output layer\n",
    "    :param batch_size: Batch size\n",
    "    :param keep_prob: Dropout keep probability\n",
    "    :return: BasicDecoderOutput containing inference logits and sample_id\n",
    "    \"\"\"\n",
    "    # TODO: Implement Function\n",
    "#    drop_dec_cell = tf.contrib.rnn.DropoutWrapper(dec_cell, output_keep_prob=keep_prob)\n",
    "    start_tokens=tf.tile(tf.constant([start_of_sequence_id],dtype=tf.int32), [batch_size])\n",
    "    inf_helper = tf.contrib.seq2seq.GreedyEmbeddingHelper(dec_embeddings,start_tokens,end_of_sequence_id)\n",
    "    inf_decoder = tf.contrib.seq2seq.BasicDecoder(dec_cell, inf_helper, encoder_state, output_layer)\n",
    "    inf_decoder_output = tf.contrib.seq2seq.dynamic_decode(inf_decoder, impute_finished=True, maximum_iterations=max_target_sequence_length)[0]\n",
    "\n",
    "    return inf_decoder_output\n",
    "\n",
    "\n",
    "\n",
    "\"\"\"\n",
    "DON'T MODIFY ANYTHING IN THIS CELL THAT IS BELOW THIS LINE\n",
    "\"\"\"\n",
    "tests.test_decoding_layer_infer(decoding_layer_infer)"
   ]
  },
  {
   "cell_type": "markdown",
   "metadata": {},
   "source": [
    "### Build the Decoding Layer\n",
    "Implement `decoding_layer()` to create a Decoder RNN layer.\n",
    "\n",
    "* Embed the target sequences\n",
    "* Construct the decoder LSTM cell (just like you constructed the encoder cell above)\n",
    "* Create an output layer to map the outputs of the decoder to the elements of our vocabulary\n",
    "* Use the your `decoding_layer_train(encoder_state, dec_cell, dec_embed_input, target_sequence_length, max_target_sequence_length, output_layer, keep_prob)` function to get the training logits.\n",
    "* Use your `decoding_layer_infer(encoder_state, dec_cell, dec_embeddings, start_of_sequence_id, end_of_sequence_id, max_target_sequence_length, vocab_size, output_layer, batch_size, keep_prob)` function to get the inference logits.\n",
    "\n",
    "Note: You'll need to use [tf.variable_scope](https://www.tensorflow.org/api_docs/python/tf/variable_scope) to share variables between training and inference."
   ]
  },
  {
   "cell_type": "code",
   "execution_count": 14,
   "metadata": {},
   "outputs": [
    {
     "name": "stdout",
     "output_type": "stream",
     "text": [
      "Tests Passed\n"
     ]
    }
   ],
   "source": [
    "def decoding_layer(dec_input, encoder_state,\n",
    "                   target_sequence_length, max_target_sequence_length,\n",
    "                   rnn_size,\n",
    "                   num_layers, target_vocab_to_int, target_vocab_size,\n",
    "                   batch_size, keep_prob, decoding_embedding_size):\n",
    "    \"\"\"\n",
    "    Create decoding layer\n",
    "    :param dec_input: Decoder input\n",
    "    :param encoder_state: Encoder state\n",
    "    :param target_sequence_length: The lengths of each sequence in the target batch\n",
    "    :param max_target_sequence_length: Maximum length of target sequences\n",
    "    :param rnn_size: RNN Size\n",
    "    :param num_layers: Number of layers\n",
    "    :param target_vocab_to_int: Dictionary to go from the target words to an id\n",
    "    :param target_vocab_size: Size of target vocabulary \n",
    "    :param keep_prob: Dropout keep probability\n",
    "    :param decoding_embedding_size: Decoding embedding size\n",
    "    :return: Tuple of (Training BasicDecoderOutput, Inference BasicDecoderOutput)\n",
    "    \"\"\"\n",
    "    # TODO: Implement Function\n",
    "    dec_embeddings = tf.Variable(tf.random_uniform([target_vocab_size, decoding_embedding_size]))\n",
    "    dec_embed_input = tf.nn.embedding_lookup(dec_embeddings, dec_input)\n",
    "    \n",
    "    def make_cell(rnn_size, keep_prob):\n",
    "#        dec_cell = tf.contrib.rnn.LSTMCell(rnn_size, initializer=tf.random_uniform(-0.1,0.1, seed=2))\n",
    "        dec_cell = tf.contrib.rnn.LSTMCell(rnn_size)\n",
    "        drop = tf.contrib.rnn.DropoutWrapper(dec_cell, output_keep_prob=keep_prob)\n",
    "        return drop\n",
    "    \n",
    "    dec_cell = tf.contrib.rnn.MultiRNNCell([make_cell(rnn_size, keep_prob) for _ in range(num_layers)])\n",
    "    output_layer= Dense(target_vocab_size, kernel_initializer=tf.truncated_normal_initializer(mean=0.0, stddev=0.1))\n",
    "    \n",
    "    with tf.variable_scope(\"decode\"):\n",
    "        trn = decoding_layer_train(encoder_state, dec_cell, dec_embed_input, \n",
    "                         target_sequence_length, max_target_sequence_length, \n",
    "                         output_layer, keep_prob)\n",
    "        tf.get_variable_scope().reuse_variables()\n",
    "        infr = decoding_layer_infer(encoder_state, dec_cell, dec_embeddings, target_vocab_to_int['<GO>'],\n",
    "                         target_vocab_to_int['<EOS>'], max_target_sequence_length,\n",
    "                         target_vocab_size, output_layer, batch_size, keep_prob)        \n",
    "    return trn, infr\n",
    "        \n",
    "\n",
    "\n",
    "\"\"\"\n",
    "DON'T MODIFY ANYTHING IN THIS CELL THAT IS BELOW THIS LINE\n",
    "\"\"\"\n",
    "tests.test_decoding_layer(decoding_layer)"
   ]
  },
  {
   "cell_type": "markdown",
   "metadata": {},
   "source": [
    "### Build the Neural Network\n",
    "Apply the functions you implemented above to:\n",
    "\n",
    "- Encode the input using your `encoding_layer(rnn_inputs, rnn_size, num_layers, keep_prob,  source_sequence_length, source_vocab_size, encoding_embedding_size)`.\n",
    "- Process target data using your `process_decoder_input(target_data, target_vocab_to_int, batch_size)` function.\n",
    "- Decode the encoded input using your `decoding_layer(dec_input, enc_state, target_sequence_length, max_target_sentence_length, rnn_size, num_layers, target_vocab_to_int, target_vocab_size, batch_size, keep_prob, dec_embedding_size)` function."
   ]
  },
  {
   "cell_type": "code",
   "execution_count": 15,
   "metadata": {},
   "outputs": [
    {
     "name": "stdout",
     "output_type": "stream",
     "text": [
      "Tests Passed\n"
     ]
    }
   ],
   "source": [
    "def seq2seq_model(input_data, target_data, keep_prob, batch_size,\n",
    "                  source_sequence_length, target_sequence_length,\n",
    "                  max_target_sentence_length,\n",
    "                  source_vocab_size, target_vocab_size,\n",
    "                  enc_embedding_size, dec_embedding_size,\n",
    "                  rnn_size, num_layers, target_vocab_to_int):\n",
    "    \"\"\"\n",
    "    Build the Sequence-to-Sequence part of the neural network\n",
    "    :param input_data: Input placeholder\n",
    "    :param target_data: Target placeholder\n",
    "    :param keep_prob: Dropout keep probability placeholder\n",
    "    :param batch_size: Batch Size\n",
    "    :param source_sequence_length: Sequence Lengths of source sequences in the batch\n",
    "    :param target_sequence_length: Sequence Lengths of target sequences in the batch\n",
    "    :param source_vocab_size: Source vocabulary size\n",
    "    :param target_vocab_size: Target vocabulary size\n",
    "    :param enc_embedding_size: Decoder embedding size\n",
    "    :param dec_embedding_size: Encoder embedding size\n",
    "    :param rnn_size: RNN Size\n",
    "    :param num_layers: Number of layers\n",
    "    :param target_vocab_to_int: Dictionary to go from the target words to an id\n",
    "    :return: Tuple of (Training BasicDecoderOutput, Inference BasicDecoderOutput)\n",
    "    \"\"\"\n",
    "    # TODO: Implement Function\n",
    "    enc, enc_state = encoding_layer(input_data, rnn_size, num_layers, keep_prob, \n",
    "                   source_sequence_length, source_vocab_size, \n",
    "                   enc_embedding_size)\n",
    "    decprepinput = process_decoder_input(target_data, target_vocab_to_int, batch_size)\n",
    "    trnout,infrout = decoding_layer(decprepinput, enc_state,\n",
    "                   target_sequence_length, max_target_sentence_length,\n",
    "                   rnn_size,\n",
    "                   num_layers, target_vocab_to_int, target_vocab_size,\n",
    "                   batch_size, keep_prob, dec_embedding_size)\n",
    "    \n",
    "    return trnout, infrout\n",
    "\n",
    "\n",
    "\"\"\"\n",
    "DON'T MODIFY ANYTHING IN THIS CELL THAT IS BELOW THIS LINE\n",
    "\"\"\"\n",
    "tests.test_seq2seq_model(seq2seq_model)"
   ]
  },
  {
   "cell_type": "markdown",
   "metadata": {},
   "source": [
    "## Neural Network Training\n",
    "### Hyperparameters\n",
    "Tune the following parameters:\n",
    "\n",
    "- Set `epochs` to the number of epochs.\n",
    "- Set `batch_size` to the batch size.\n",
    "- Set `rnn_size` to the size of the RNNs.\n",
    "- Set `num_layers` to the number of layers.\n",
    "- Set `encoding_embedding_size` to the size of the embedding for the encoder.\n",
    "- Set `decoding_embedding_size` to the size of the embedding for the decoder.\n",
    "- Set `learning_rate` to the learning rate.\n",
    "- Set `keep_probability` to the Dropout keep probability\n",
    "- Set `display_step` to state how many steps between each debug output statement"
   ]
  },
  {
   "cell_type": "code",
   "execution_count": 49,
   "metadata": {
    "collapsed": true
   },
   "outputs": [],
   "source": [
    "# Number of Epochs\n",
    "epochs = 6\n",
    "# Batch Size\n",
    "batch_size = 512\n",
    "# RNN Size\n",
    "rnn_size = 512\n",
    "# Number of Layers\n",
    "num_layers = 2\n",
    "# Embedding Size\n",
    "encoding_embedding_size = 128\n",
    "decoding_embedding_size = 128\n",
    "# Learning Rate\n",
    "learning_rate = 0.001\n",
    "# Dropout Keep Probability\n",
    "keep_probability = 0.50\n",
    "display_step = 10"
   ]
  },
  {
   "cell_type": "markdown",
   "metadata": {},
   "source": [
    "### Build the Graph\n",
    "Build the graph using the neural network you implemented."
   ]
  },
  {
   "cell_type": "code",
   "execution_count": 50,
   "metadata": {
    "collapsed": true
   },
   "outputs": [],
   "source": [
    "\"\"\"\n",
    "DON'T MODIFY ANYTHING IN THIS CELL\n",
    "\"\"\"\n",
    "save_path = 'checkpoints/dev'\n",
    "(source_int_text, target_int_text), (source_vocab_to_int, target_vocab_to_int), _ = helper.load_preprocess()\n",
    "max_target_sentence_length = max([len(sentence) for sentence in source_int_text])\n",
    "\n",
    "train_graph = tf.Graph()\n",
    "with train_graph.as_default():\n",
    "    input_data, targets, lr, keep_prob, target_sequence_length, max_target_sequence_length, source_sequence_length = model_inputs()\n",
    "\n",
    "    #sequence_length = tf.placeholder_with_default(max_target_sentence_length, None, name='sequence_length')\n",
    "    input_shape = tf.shape(input_data)\n",
    "\n",
    "    train_logits, inference_logits = seq2seq_model(tf.reverse(input_data, [-1]),\n",
    "                                                   targets,\n",
    "                                                   keep_prob,\n",
    "                                                   batch_size,\n",
    "                                                   source_sequence_length,\n",
    "                                                   target_sequence_length,\n",
    "                                                   max_target_sequence_length,\n",
    "                                                   len(source_vocab_to_int),\n",
    "                                                   len(target_vocab_to_int),\n",
    "                                                   encoding_embedding_size,\n",
    "                                                   decoding_embedding_size,\n",
    "                                                   rnn_size,\n",
    "                                                   num_layers,\n",
    "                                                   target_vocab_to_int)\n",
    "\n",
    "\n",
    "    training_logits = tf.identity(train_logits.rnn_output, name='logits')\n",
    "    inference_logits = tf.identity(inference_logits.sample_id, name='predictions')\n",
    "\n",
    "    masks = tf.sequence_mask(target_sequence_length, max_target_sequence_length, dtype=tf.float32, name='masks')\n",
    "\n",
    "    with tf.name_scope(\"optimization\"):\n",
    "        # Loss function\n",
    "        cost = tf.contrib.seq2seq.sequence_loss(\n",
    "            training_logits,\n",
    "            targets,\n",
    "            masks)\n",
    "\n",
    "        # Optimizer\n",
    "        optimizer = tf.train.AdamOptimizer(lr)\n",
    "\n",
    "        # Gradient Clipping\n",
    "        gradients = optimizer.compute_gradients(cost)\n",
    "        capped_gradients = [(tf.clip_by_value(grad, -1., 1.), var) for grad, var in gradients if grad is not None]\n",
    "        train_op = optimizer.apply_gradients(capped_gradients)\n"
   ]
  },
  {
   "cell_type": "markdown",
   "metadata": {},
   "source": [
    "Batch and pad the source and target sequences"
   ]
  },
  {
   "cell_type": "code",
   "execution_count": 51,
   "metadata": {
    "collapsed": true
   },
   "outputs": [],
   "source": [
    "\"\"\"\n",
    "DON'T MODIFY ANYTHING IN THIS CELL\n",
    "\"\"\"\n",
    "def pad_sentence_batch(sentence_batch, pad_int):\n",
    "    \"\"\"Pad sentences with <PAD> so that each sentence of a batch has the same length\"\"\"\n",
    "    max_sentence = max([len(sentence) for sentence in sentence_batch])\n",
    "    return [sentence + [pad_int] * (max_sentence - len(sentence)) for sentence in sentence_batch]\n",
    "\n",
    "\n",
    "def get_batches(sources, targets, batch_size, source_pad_int, target_pad_int):\n",
    "    \"\"\"Batch targets, sources, and the lengths of their sentences together\"\"\"\n",
    "    for batch_i in range(0, len(sources)//batch_size):\n",
    "        start_i = batch_i * batch_size\n",
    "\n",
    "        # Slice the right amount for the batch\n",
    "        sources_batch = sources[start_i:start_i + batch_size]\n",
    "        targets_batch = targets[start_i:start_i + batch_size]\n",
    "\n",
    "        # Pad\n",
    "        pad_sources_batch = np.array(pad_sentence_batch(sources_batch, source_pad_int))\n",
    "        pad_targets_batch = np.array(pad_sentence_batch(targets_batch, target_pad_int))\n",
    "\n",
    "        # Need the lengths for the _lengths parameters\n",
    "        pad_targets_lengths = []\n",
    "        for target in pad_targets_batch:\n",
    "            pad_targets_lengths.append(len(target))\n",
    "\n",
    "        pad_source_lengths = []\n",
    "        for source in pad_sources_batch:\n",
    "            pad_source_lengths.append(len(source))\n",
    "\n",
    "        yield pad_sources_batch, pad_targets_batch, pad_source_lengths, pad_targets_lengths\n"
   ]
  },
  {
   "cell_type": "markdown",
   "metadata": {},
   "source": [
    "### Train\n",
    "Train the neural network on the preprocessed data. If you have a hard time getting a good loss, check the forms to see if anyone is having the same problem."
   ]
  },
  {
   "cell_type": "code",
   "execution_count": 52,
   "metadata": {
    "scrolled": true
   },
   "outputs": [
    {
     "name": "stdout",
     "output_type": "stream",
     "text": [
      "Epoch   0 Batch   10/269 - Train Accuracy: 0.3384, Validation Accuracy: 0.3991, Loss: 3.3527\n",
      "Epoch   0 Batch   20/269 - Train Accuracy: 0.4043, Validation Accuracy: 0.4532, Loss: 2.7485\n",
      "Epoch   0 Batch   30/269 - Train Accuracy: 0.4519, Validation Accuracy: 0.4732, Loss: 2.3490\n",
      "Epoch   0 Batch   40/269 - Train Accuracy: 0.4641, Validation Accuracy: 0.5036, Loss: 2.2224\n",
      "Epoch   0 Batch   50/269 - Train Accuracy: 0.4636, Validation Accuracy: 0.5099, Loss: 2.0861\n",
      "Epoch   0 Batch   60/269 - Train Accuracy: 0.4929, Validation Accuracy: 0.5073, Loss: 1.8441\n",
      "Epoch   0 Batch   70/269 - Train Accuracy: 0.4831, Validation Accuracy: 0.4910, Loss: 1.7392\n",
      "Epoch   0 Batch   80/269 - Train Accuracy: 0.4872, Validation Accuracy: 0.5019, Loss: 1.6061\n",
      "Epoch   0 Batch   90/269 - Train Accuracy: 0.4305, Validation Accuracy: 0.4991, Loss: 1.6264\n",
      "Epoch   0 Batch  100/269 - Train Accuracy: 0.5232, Validation Accuracy: 0.5281, Loss: 1.4414\n",
      "Epoch   0 Batch  110/269 - Train Accuracy: 0.4808, Validation Accuracy: 0.5117, Loss: 1.3798\n",
      "Epoch   0 Batch  120/269 - Train Accuracy: 0.5188, Validation Accuracy: 0.5421, Loss: 1.3486\n",
      "Epoch   0 Batch  130/269 - Train Accuracy: 0.5176, Validation Accuracy: 0.5542, Loss: 1.2865\n",
      "Epoch   0 Batch  140/269 - Train Accuracy: 0.5082, Validation Accuracy: 0.5306, Loss: 1.2295\n",
      "Epoch   0 Batch  150/269 - Train Accuracy: 0.5546, Validation Accuracy: 0.5541, Loss: 1.1456\n",
      "Epoch   0 Batch  160/269 - Train Accuracy: 0.5669, Validation Accuracy: 0.5699, Loss: 1.0724\n",
      "Epoch   0 Batch  170/269 - Train Accuracy: 0.5636, Validation Accuracy: 0.5750, Loss: 1.0063\n",
      "Epoch   0 Batch  180/269 - Train Accuracy: 0.5491, Validation Accuracy: 0.5593, Loss: 0.9437\n",
      "Epoch   0 Batch  190/269 - Train Accuracy: 0.5763, Validation Accuracy: 0.5880, Loss: 0.9098\n",
      "Epoch   0 Batch  200/269 - Train Accuracy: 0.5846, Validation Accuracy: 0.6038, Loss: 0.9045\n",
      "Epoch   0 Batch  210/269 - Train Accuracy: 0.5960, Validation Accuracy: 0.5921, Loss: 0.8354\n",
      "Epoch   0 Batch  220/269 - Train Accuracy: 0.6097, Validation Accuracy: 0.5942, Loss: 0.7756\n",
      "Epoch   0 Batch  230/269 - Train Accuracy: 0.5900, Validation Accuracy: 0.5988, Loss: 0.7953\n",
      "Epoch   0 Batch  240/269 - Train Accuracy: 0.6266, Validation Accuracy: 0.6104, Loss: 0.7040\n",
      "Epoch   0 Batch  250/269 - Train Accuracy: 0.5914, Validation Accuracy: 0.6121, Loss: 0.7668\n",
      "Epoch   0 Batch  260/269 - Train Accuracy: 0.6013, Validation Accuracy: 0.6154, Loss: 0.7702\n",
      "Epoch   1 Batch   10/269 - Train Accuracy: 0.5998, Validation Accuracy: 0.6149, Loss: 0.7448\n",
      "Epoch   1 Batch   20/269 - Train Accuracy: 0.6124, Validation Accuracy: 0.6220, Loss: 0.7216\n",
      "Epoch   1 Batch   30/269 - Train Accuracy: 0.6254, Validation Accuracy: 0.6315, Loss: 0.6540\n",
      "Epoch   1 Batch   40/269 - Train Accuracy: 0.6181, Validation Accuracy: 0.6391, Loss: 0.6628\n",
      "Epoch   1 Batch   50/269 - Train Accuracy: 0.6236, Validation Accuracy: 0.6415, Loss: 0.6461\n",
      "Epoch   1 Batch   60/269 - Train Accuracy: 0.6549, Validation Accuracy: 0.6404, Loss: 0.5743\n",
      "Epoch   1 Batch   70/269 - Train Accuracy: 0.6459, Validation Accuracy: 0.6377, Loss: 0.5941\n",
      "Epoch   1 Batch   80/269 - Train Accuracy: 0.6537, Validation Accuracy: 0.6477, Loss: 0.5737\n",
      "Epoch   1 Batch   90/269 - Train Accuracy: 0.6111, Validation Accuracy: 0.6452, Loss: 0.5950\n",
      "Epoch   1 Batch  100/269 - Train Accuracy: 0.6665, Validation Accuracy: 0.6479, Loss: 0.5431\n",
      "Epoch   1 Batch  110/269 - Train Accuracy: 0.6501, Validation Accuracy: 0.6337, Loss: 0.5243\n",
      "Epoch   1 Batch  120/269 - Train Accuracy: 0.6472, Validation Accuracy: 0.6570, Loss: 0.5314\n",
      "Epoch   1 Batch  130/269 - Train Accuracy: 0.6454, Validation Accuracy: 0.6721, Loss: 0.5267\n",
      "Epoch   1 Batch  140/269 - Train Accuracy: 0.6952, Validation Accuracy: 0.6811, Loss: 0.4972\n",
      "Epoch   1 Batch  150/269 - Train Accuracy: 0.6935, Validation Accuracy: 0.6806, Loss: 0.4770\n",
      "Epoch   1 Batch  160/269 - Train Accuracy: 0.7159, Validation Accuracy: 0.7100, Loss: 0.4442\n",
      "Epoch   1 Batch  170/269 - Train Accuracy: 0.7001, Validation Accuracy: 0.7159, Loss: 0.4282\n",
      "Epoch   1 Batch  180/269 - Train Accuracy: 0.7189, Validation Accuracy: 0.7243, Loss: 0.4173\n",
      "Epoch   1 Batch  190/269 - Train Accuracy: 0.7451, Validation Accuracy: 0.7314, Loss: 0.3808\n",
      "Epoch   1 Batch  200/269 - Train Accuracy: 0.7301, Validation Accuracy: 0.7263, Loss: 0.4067\n",
      "Epoch   1 Batch  210/269 - Train Accuracy: 0.7580, Validation Accuracy: 0.7513, Loss: 0.3641\n",
      "Epoch   1 Batch  220/269 - Train Accuracy: 0.7702, Validation Accuracy: 0.7716, Loss: 0.3197\n",
      "Epoch   1 Batch  230/269 - Train Accuracy: 0.8043, Validation Accuracy: 0.7879, Loss: 0.3102\n",
      "Epoch   1 Batch  240/269 - Train Accuracy: 0.8233, Validation Accuracy: 0.8068, Loss: 0.2731\n",
      "Epoch   1 Batch  250/269 - Train Accuracy: 0.8320, Validation Accuracy: 0.8280, Loss: 0.2834\n",
      "Epoch   1 Batch  260/269 - Train Accuracy: 0.8147, Validation Accuracy: 0.8324, Loss: 0.2827\n",
      "Epoch   2 Batch   10/269 - Train Accuracy: 0.8587, Validation Accuracy: 0.8622, Loss: 0.2155\n",
      "Epoch   2 Batch   20/269 - Train Accuracy: 0.8632, Validation Accuracy: 0.8690, Loss: 0.2075\n",
      "Epoch   2 Batch   30/269 - Train Accuracy: 0.8821, Validation Accuracy: 0.8805, Loss: 0.1838\n",
      "Epoch   2 Batch   40/269 - Train Accuracy: 0.8687, Validation Accuracy: 0.8828, Loss: 0.1774\n",
      "Epoch   2 Batch   50/269 - Train Accuracy: 0.8600, Validation Accuracy: 0.8833, Loss: 0.1835\n",
      "Epoch   2 Batch   60/269 - Train Accuracy: 0.8952, Validation Accuracy: 0.8903, Loss: 0.1451\n",
      "Epoch   2 Batch   70/269 - Train Accuracy: 0.8843, Validation Accuracy: 0.8920, Loss: 0.1584\n",
      "Epoch   2 Batch   80/269 - Train Accuracy: 0.8989, Validation Accuracy: 0.8923, Loss: 0.1431\n",
      "Epoch   2 Batch   90/269 - Train Accuracy: 0.8960, Validation Accuracy: 0.8888, Loss: 0.1454\n",
      "Epoch   2 Batch  100/269 - Train Accuracy: 0.8948, Validation Accuracy: 0.8917, Loss: 0.1368\n",
      "Epoch   2 Batch  110/269 - Train Accuracy: 0.8863, Validation Accuracy: 0.8932, Loss: 0.1194\n",
      "Epoch   2 Batch  120/269 - Train Accuracy: 0.9030, Validation Accuracy: 0.8983, Loss: 0.1205\n",
      "Epoch   2 Batch  130/269 - Train Accuracy: 0.8970, Validation Accuracy: 0.8939, Loss: 0.1249\n",
      "Epoch   2 Batch  140/269 - Train Accuracy: 0.9001, Validation Accuracy: 0.8944, Loss: 0.1173\n",
      "Epoch   2 Batch  150/269 - Train Accuracy: 0.9062, Validation Accuracy: 0.9028, Loss: 0.1083\n",
      "Epoch   2 Batch  160/269 - Train Accuracy: 0.9068, Validation Accuracy: 0.9157, Loss: 0.1063\n",
      "Epoch   2 Batch  170/269 - Train Accuracy: 0.9049, Validation Accuracy: 0.9114, Loss: 0.0950\n",
      "Epoch   2 Batch  180/269 - Train Accuracy: 0.9214, Validation Accuracy: 0.9160, Loss: 0.0940\n",
      "Epoch   2 Batch  190/269 - Train Accuracy: 0.9220, Validation Accuracy: 0.9180, Loss: 0.0895\n",
      "Epoch   2 Batch  200/269 - Train Accuracy: 0.9202, Validation Accuracy: 0.9110, Loss: 0.0861\n",
      "Epoch   2 Batch  210/269 - Train Accuracy: 0.9156, Validation Accuracy: 0.9129, Loss: 0.0838\n",
      "Epoch   2 Batch  220/269 - Train Accuracy: 0.9252, Validation Accuracy: 0.9153, Loss: 0.0849\n",
      "Epoch   2 Batch  230/269 - Train Accuracy: 0.9264, Validation Accuracy: 0.9166, Loss: 0.0818\n",
      "Epoch   2 Batch  240/269 - Train Accuracy: 0.9297, Validation Accuracy: 0.9116, Loss: 0.0728\n",
      "Epoch   2 Batch  250/269 - Train Accuracy: 0.9360, Validation Accuracy: 0.9221, Loss: 0.0802\n",
      "Epoch   2 Batch  260/269 - Train Accuracy: 0.9120, Validation Accuracy: 0.9215, Loss: 0.0843\n",
      "Epoch   3 Batch   10/269 - Train Accuracy: 0.9235, Validation Accuracy: 0.9110, Loss: 0.0743\n",
      "Epoch   3 Batch   20/269 - Train Accuracy: 0.9265, Validation Accuracy: 0.9139, Loss: 0.0705\n",
      "Epoch   3 Batch   30/269 - Train Accuracy: 0.9359, Validation Accuracy: 0.9277, Loss: 0.0707\n",
      "Epoch   3 Batch   40/269 - Train Accuracy: 0.9194, Validation Accuracy: 0.9242, Loss: 0.0740\n",
      "Epoch   3 Batch   50/269 - Train Accuracy: 0.9140, Validation Accuracy: 0.9126, Loss: 0.0774\n",
      "Epoch   3 Batch   60/269 - Train Accuracy: 0.9308, Validation Accuracy: 0.9300, Loss: 0.0639\n",
      "Epoch   3 Batch   70/269 - Train Accuracy: 0.9225, Validation Accuracy: 0.9335, Loss: 0.0740\n",
      "Epoch   3 Batch   80/269 - Train Accuracy: 0.9280, Validation Accuracy: 0.9285, Loss: 0.0637\n",
      "Epoch   3 Batch   90/269 - Train Accuracy: 0.9327, Validation Accuracy: 0.9284, Loss: 0.0664\n",
      "Epoch   3 Batch  100/269 - Train Accuracy: 0.9327, Validation Accuracy: 0.9339, Loss: 0.0651\n",
      "Epoch   3 Batch  110/269 - Train Accuracy: 0.9265, Validation Accuracy: 0.9283, Loss: 0.0610\n"
     ]
    },
    {
     "name": "stdout",
     "output_type": "stream",
     "text": [
      "Epoch   3 Batch  120/269 - Train Accuracy: 0.9352, Validation Accuracy: 0.9339, Loss: 0.0603\n",
      "Epoch   3 Batch  130/269 - Train Accuracy: 0.9395, Validation Accuracy: 0.9339, Loss: 0.0638\n",
      "Epoch   3 Batch  140/269 - Train Accuracy: 0.9277, Validation Accuracy: 0.9358, Loss: 0.0620\n",
      "Epoch   3 Batch  150/269 - Train Accuracy: 0.9349, Validation Accuracy: 0.9361, Loss: 0.0591\n",
      "Epoch   3 Batch  160/269 - Train Accuracy: 0.9363, Validation Accuracy: 0.9368, Loss: 0.0587\n",
      "Epoch   3 Batch  170/269 - Train Accuracy: 0.9368, Validation Accuracy: 0.9406, Loss: 0.0517\n",
      "Epoch   3 Batch  180/269 - Train Accuracy: 0.9386, Validation Accuracy: 0.9410, Loss: 0.0587\n",
      "Epoch   3 Batch  190/269 - Train Accuracy: 0.9384, Validation Accuracy: 0.9389, Loss: 0.0574\n",
      "Epoch   3 Batch  200/269 - Train Accuracy: 0.9496, Validation Accuracy: 0.9374, Loss: 0.0505\n",
      "Epoch   3 Batch  210/269 - Train Accuracy: 0.9468, Validation Accuracy: 0.9414, Loss: 0.0501\n",
      "Epoch   3 Batch  220/269 - Train Accuracy: 0.9426, Validation Accuracy: 0.9401, Loss: 0.0547\n",
      "Epoch   3 Batch  230/269 - Train Accuracy: 0.9459, Validation Accuracy: 0.9370, Loss: 0.0535\n",
      "Epoch   3 Batch  240/269 - Train Accuracy: 0.9529, Validation Accuracy: 0.9421, Loss: 0.0466\n",
      "Epoch   3 Batch  250/269 - Train Accuracy: 0.9517, Validation Accuracy: 0.9368, Loss: 0.0462\n",
      "Epoch   3 Batch  260/269 - Train Accuracy: 0.9443, Validation Accuracy: 0.9442, Loss: 0.0528\n",
      "Epoch   4 Batch   10/269 - Train Accuracy: 0.9507, Validation Accuracy: 0.9434, Loss: 0.0424\n",
      "Epoch   4 Batch   20/269 - Train Accuracy: 0.9474, Validation Accuracy: 0.9397, Loss: 0.0483\n",
      "Epoch   4 Batch   30/269 - Train Accuracy: 0.9380, Validation Accuracy: 0.9441, Loss: 0.0491\n",
      "Epoch   4 Batch   40/269 - Train Accuracy: 0.9312, Validation Accuracy: 0.9413, Loss: 0.0510\n",
      "Epoch   4 Batch   50/269 - Train Accuracy: 0.9313, Validation Accuracy: 0.9448, Loss: 0.0556\n",
      "Epoch   4 Batch   60/269 - Train Accuracy: 0.9462, Validation Accuracy: 0.9448, Loss: 0.0464\n",
      "Epoch   4 Batch   70/269 - Train Accuracy: 0.9452, Validation Accuracy: 0.9418, Loss: 0.0479\n",
      "Epoch   4 Batch   80/269 - Train Accuracy: 0.9508, Validation Accuracy: 0.9444, Loss: 0.0444\n",
      "Epoch   4 Batch   90/269 - Train Accuracy: 0.9388, Validation Accuracy: 0.9361, Loss: 0.0605\n",
      "Epoch   4 Batch  100/269 - Train Accuracy: 0.9422, Validation Accuracy: 0.9387, Loss: 0.0507\n",
      "Epoch   4 Batch  110/269 - Train Accuracy: 0.9422, Validation Accuracy: 0.9455, Loss: 0.0461\n",
      "Epoch   4 Batch  120/269 - Train Accuracy: 0.9418, Validation Accuracy: 0.9376, Loss: 0.0480\n",
      "Epoch   4 Batch  130/269 - Train Accuracy: 0.9439, Validation Accuracy: 0.9410, Loss: 0.0467\n",
      "Epoch   4 Batch  140/269 - Train Accuracy: 0.9475, Validation Accuracy: 0.9454, Loss: 0.0443\n",
      "Epoch   4 Batch  150/269 - Train Accuracy: 0.9468, Validation Accuracy: 0.9393, Loss: 0.0422\n",
      "Epoch   4 Batch  160/269 - Train Accuracy: 0.9448, Validation Accuracy: 0.9471, Loss: 0.0455\n",
      "Epoch   4 Batch  170/269 - Train Accuracy: 0.9376, Validation Accuracy: 0.9454, Loss: 0.0398\n",
      "Epoch   4 Batch  180/269 - Train Accuracy: 0.9589, Validation Accuracy: 0.9461, Loss: 0.0423\n",
      "Epoch   4 Batch  190/269 - Train Accuracy: 0.9498, Validation Accuracy: 0.9452, Loss: 0.0425\n",
      "Epoch   4 Batch  200/269 - Train Accuracy: 0.9647, Validation Accuracy: 0.9526, Loss: 0.0403\n",
      "Epoch   4 Batch  210/269 - Train Accuracy: 0.9454, Validation Accuracy: 0.9401, Loss: 0.0369\n",
      "Epoch   4 Batch  220/269 - Train Accuracy: 0.9566, Validation Accuracy: 0.9461, Loss: 0.0376\n",
      "Epoch   4 Batch  230/269 - Train Accuracy: 0.9553, Validation Accuracy: 0.9470, Loss: 0.0390\n",
      "Epoch   4 Batch  240/269 - Train Accuracy: 0.9630, Validation Accuracy: 0.9561, Loss: 0.0364\n",
      "Epoch   4 Batch  250/269 - Train Accuracy: 0.9540, Validation Accuracy: 0.9529, Loss: 0.0366\n",
      "Epoch   4 Batch  260/269 - Train Accuracy: 0.9601, Validation Accuracy: 0.9584, Loss: 0.0423\n",
      "Epoch   5 Batch   10/269 - Train Accuracy: 0.9611, Validation Accuracy: 0.9482, Loss: 0.0335\n",
      "Epoch   5 Batch   20/269 - Train Accuracy: 0.9547, Validation Accuracy: 0.9493, Loss: 0.0355\n",
      "Epoch   5 Batch   30/269 - Train Accuracy: 0.9515, Validation Accuracy: 0.9478, Loss: 0.0388\n",
      "Epoch   5 Batch   40/269 - Train Accuracy: 0.9462, Validation Accuracy: 0.9529, Loss: 0.0360\n",
      "Epoch   5 Batch   50/269 - Train Accuracy: 0.9400, Validation Accuracy: 0.9513, Loss: 0.0416\n",
      "Epoch   5 Batch   60/269 - Train Accuracy: 0.9593, Validation Accuracy: 0.9512, Loss: 0.0357\n",
      "Epoch   5 Batch   70/269 - Train Accuracy: 0.9634, Validation Accuracy: 0.9535, Loss: 0.0361\n",
      "Epoch   5 Batch   80/269 - Train Accuracy: 0.9700, Validation Accuracy: 0.9585, Loss: 0.0347\n",
      "Epoch   5 Batch   90/269 - Train Accuracy: 0.9590, Validation Accuracy: 0.9566, Loss: 0.0359\n",
      "Epoch   5 Batch  100/269 - Train Accuracy: 0.9524, Validation Accuracy: 0.9553, Loss: 0.0356\n",
      "Epoch   5 Batch  110/269 - Train Accuracy: 0.9501, Validation Accuracy: 0.9569, Loss: 0.0298\n",
      "Epoch   5 Batch  120/269 - Train Accuracy: 0.9663, Validation Accuracy: 0.9573, Loss: 0.0316\n",
      "Epoch   5 Batch  130/269 - Train Accuracy: 0.9582, Validation Accuracy: 0.9493, Loss: 0.0366\n",
      "Epoch   5 Batch  140/269 - Train Accuracy: 0.9550, Validation Accuracy: 0.9569, Loss: 0.0355\n",
      "Epoch   5 Batch  150/269 - Train Accuracy: 0.9675, Validation Accuracy: 0.9618, Loss: 0.0335\n",
      "Epoch   5 Batch  160/269 - Train Accuracy: 0.9536, Validation Accuracy: 0.9597, Loss: 0.0333\n",
      "Epoch   5 Batch  170/269 - Train Accuracy: 0.9568, Validation Accuracy: 0.9601, Loss: 0.0305\n",
      "Epoch   5 Batch  180/269 - Train Accuracy: 0.9712, Validation Accuracy: 0.9607, Loss: 0.0325\n",
      "Epoch   5 Batch  190/269 - Train Accuracy: 0.9572, Validation Accuracy: 0.9545, Loss: 0.0317\n",
      "Epoch   5 Batch  200/269 - Train Accuracy: 0.9661, Validation Accuracy: 0.9553, Loss: 0.0260\n",
      "Epoch   5 Batch  210/269 - Train Accuracy: 0.9551, Validation Accuracy: 0.9523, Loss: 0.0321\n",
      "Epoch   5 Batch  220/269 - Train Accuracy: 0.9554, Validation Accuracy: 0.9561, Loss: 0.0331\n",
      "Epoch   5 Batch  230/269 - Train Accuracy: 0.9599, Validation Accuracy: 0.9607, Loss: 0.0342\n",
      "Epoch   5 Batch  240/269 - Train Accuracy: 0.9617, Validation Accuracy: 0.9615, Loss: 0.0275\n",
      "Epoch   5 Batch  250/269 - Train Accuracy: 0.9620, Validation Accuracy: 0.9569, Loss: 0.0325\n",
      "Epoch   5 Batch  260/269 - Train Accuracy: 0.9694, Validation Accuracy: 0.9582, Loss: 0.0349\n",
      "Model Trained and Saved\n"
     ]
    }
   ],
   "source": [
    "\"\"\"\n",
    "DON'T MODIFY ANYTHING IN THIS CELL\n",
    "\"\"\"\n",
    "def get_accuracy(target, logits):\n",
    "    \"\"\"\n",
    "    Calculate accuracy\n",
    "    \"\"\"\n",
    "    max_seq = max(target.shape[1], logits.shape[1])\n",
    "    if max_seq - target.shape[1]:\n",
    "        target = np.pad(\n",
    "            target,\n",
    "            [(0,0),(0,max_seq - target.shape[1])],\n",
    "            'constant')\n",
    "    if max_seq - logits.shape[1]:\n",
    "        logits = np.pad(\n",
    "            logits,\n",
    "            [(0,0),(0,max_seq - logits.shape[1])],\n",
    "            'constant')\n",
    "\n",
    "    return np.mean(np.equal(target, logits))\n",
    "\n",
    "# Split data to training and validation sets\n",
    "train_source = source_int_text[batch_size:]\n",
    "train_target = target_int_text[batch_size:]\n",
    "valid_source = source_int_text[:batch_size]\n",
    "valid_target = target_int_text[:batch_size]\n",
    "(valid_sources_batch, valid_targets_batch, valid_sources_lengths, valid_targets_lengths ) = next(get_batches(valid_source,\n",
    "                                                                                                             valid_target,\n",
    "                                                                                                             batch_size,\n",
    "                                                                                                             source_vocab_to_int['<PAD>'],\n",
    "                                                                                                             target_vocab_to_int['<PAD>']))                                                                                                  \n",
    "with tf.Session(graph=train_graph) as sess:\n",
    "    sess.run(tf.global_variables_initializer())\n",
    "\n",
    "    for epoch_i in range(epochs):\n",
    "        for batch_i, (source_batch, target_batch, sources_lengths, targets_lengths) in enumerate(\n",
    "                get_batches(train_source, train_target, batch_size,\n",
    "                            source_vocab_to_int['<PAD>'],\n",
    "                            target_vocab_to_int['<PAD>'])):\n",
    "\n",
    "            _, loss = sess.run(\n",
    "                [train_op, cost],\n",
    "                {input_data: source_batch,\n",
    "                 targets: target_batch,\n",
    "                 lr: learning_rate,\n",
    "                 target_sequence_length: targets_lengths,\n",
    "                 source_sequence_length: sources_lengths,\n",
    "                 keep_prob: keep_probability})\n",
    "\n",
    "\n",
    "            if batch_i % display_step == 0 and batch_i > 0:\n",
    "\n",
    "\n",
    "                batch_train_logits = sess.run(\n",
    "                    inference_logits,\n",
    "                    {input_data: source_batch,\n",
    "                     source_sequence_length: sources_lengths,\n",
    "                     target_sequence_length: targets_lengths,\n",
    "                     keep_prob: 1.0})\n",
    "\n",
    "\n",
    "                batch_valid_logits = sess.run(\n",
    "                    inference_logits,\n",
    "                    {input_data: valid_sources_batch,\n",
    "                     source_sequence_length: valid_sources_lengths,\n",
    "                     target_sequence_length: valid_targets_lengths,\n",
    "                     keep_prob: 1.0})\n",
    "\n",
    "                train_acc = get_accuracy(target_batch, batch_train_logits)\n",
    "\n",
    "                valid_acc = get_accuracy(valid_targets_batch, batch_valid_logits)\n",
    "\n",
    "                print('Epoch {:>3} Batch {:>4}/{} - Train Accuracy: {:>6.4f}, Validation Accuracy: {:>6.4f}, Loss: {:>6.4f}'\n",
    "                      .format(epoch_i, batch_i, len(source_int_text) // batch_size, train_acc, valid_acc, loss))\n",
    "\n",
    "    # Save Model\n",
    "    saver = tf.train.Saver()\n",
    "    saver.save(sess, save_path)\n",
    "    print('Model Trained and Saved')"
   ]
  },
  {
   "cell_type": "markdown",
   "metadata": {},
   "source": [
    "### Save Parameters\n",
    "Save the `batch_size` and `save_path` parameters for inference."
   ]
  },
  {
   "cell_type": "code",
   "execution_count": 53,
   "metadata": {
    "collapsed": true
   },
   "outputs": [],
   "source": [
    "\"\"\"\n",
    "DON'T MODIFY ANYTHING IN THIS CELL\n",
    "\"\"\"\n",
    "# Save parameters for checkpoint\n",
    "helper.save_params(save_path)"
   ]
  },
  {
   "cell_type": "markdown",
   "metadata": {},
   "source": [
    "# Checkpoint"
   ]
  },
  {
   "cell_type": "code",
   "execution_count": 54,
   "metadata": {
    "collapsed": true
   },
   "outputs": [],
   "source": [
    "\"\"\"\n",
    "DON'T MODIFY ANYTHING IN THIS CELL\n",
    "\"\"\"\n",
    "import tensorflow as tf\n",
    "import numpy as np\n",
    "import helper\n",
    "import problem_unittests as tests\n",
    "\n",
    "_, (source_vocab_to_int, target_vocab_to_int), (source_int_to_vocab, target_int_to_vocab) = helper.load_preprocess()\n",
    "load_path = helper.load_params()"
   ]
  },
  {
   "cell_type": "markdown",
   "metadata": {},
   "source": [
    "## Sentence to Sequence\n",
    "To feed a sentence into the model for translation, you first need to preprocess it.  Implement the function `sentence_to_seq()` to preprocess new sentences.\n",
    "\n",
    "- Convert the sentence to lowercase\n",
    "- Convert words into ids using `vocab_to_int`\n",
    " - Convert words not in the vocabulary, to the `<UNK>` word id."
   ]
  },
  {
   "cell_type": "code",
   "execution_count": 55,
   "metadata": {},
   "outputs": [
    {
     "name": "stdout",
     "output_type": "stream",
     "text": [
      "Tests Passed\n"
     ]
    }
   ],
   "source": [
    "def sentence_to_seq(sentence, vocab_to_int):\n",
    "    \"\"\"\n",
    "    Convert a sentence to a sequence of ids\n",
    "    :param sentence: String\n",
    "    :param vocab_to_int: Dictionary to go from the words to an id\n",
    "    :return: List of word ids\n",
    "    \"\"\"\n",
    "    # TODO: Implement Function\n",
    "    ids = [ vocab_to_int[w] if w in vocab_to_int else vocab_to_int['<UNK>'] for w in sentence.lower().split() ]\n",
    "    return ids\n",
    "\n",
    "\n",
    "\"\"\"\n",
    "DON'T MODIFY ANYTHING IN THIS CELL THAT IS BELOW THIS LINE\n",
    "\"\"\"\n",
    "tests.test_sentence_to_seq(sentence_to_seq)"
   ]
  },
  {
   "cell_type": "markdown",
   "metadata": {},
   "source": [
    "## Translate\n",
    "This will translate `translate_sentence` from English to French."
   ]
  },
  {
   "cell_type": "code",
   "execution_count": 56,
   "metadata": {},
   "outputs": [
    {
     "name": "stdout",
     "output_type": "stream",
     "text": [
      "INFO:tensorflow:Restoring parameters from checkpoints/dev\n",
      "Input\n",
      "  Word Ids:      [161, 213, 39, 63, 162, 203, 55]\n",
      "  English Words: ['he', 'saw', 'a', 'old', 'yellow', 'truck', '.']\n",
      "\n",
      "Prediction\n",
      "  Word Ids:      [354, 248, 48, 242, 357, 298, 1]\n",
      "  French Words: il conduisait ce camion jaune . <EOS>\n"
     ]
    }
   ],
   "source": [
    "translate_sentence = 'he saw a old yellow truck .'\n",
    "#translate_sentence = 'I ate a yellow banana .'\n",
    "\n",
    "\n",
    "\n",
    "\"\"\"\n",
    "DON'T MODIFY ANYTHING IN THIS CELL\n",
    "\"\"\"\n",
    "translate_sentence = sentence_to_seq(translate_sentence, source_vocab_to_int)\n",
    "\n",
    "loaded_graph = tf.Graph()\n",
    "with tf.Session(graph=loaded_graph) as sess:\n",
    "    # Load saved model\n",
    "    loader = tf.train.import_meta_graph(load_path + '.meta')\n",
    "    loader.restore(sess, load_path)\n",
    "\n",
    "    input_data = loaded_graph.get_tensor_by_name('input:0')\n",
    "    logits = loaded_graph.get_tensor_by_name('predictions:0')\n",
    "    target_sequence_length = loaded_graph.get_tensor_by_name('target_sequence_length:0')\n",
    "    source_sequence_length = loaded_graph.get_tensor_by_name('source_sequence_length:0')\n",
    "    keep_prob = loaded_graph.get_tensor_by_name('keep_prob:0')\n",
    "\n",
    "    translate_logits = sess.run(logits, {input_data: [translate_sentence]*batch_size,\n",
    "                                         target_sequence_length: [len(translate_sentence)*2]*batch_size,\n",
    "                                         source_sequence_length: [len(translate_sentence)]*batch_size,\n",
    "                                         keep_prob: 1.0})[0]\n",
    "\n",
    "print('Input')\n",
    "print('  Word Ids:      {}'.format([i for i in translate_sentence]))\n",
    "print('  English Words: {}'.format([source_int_to_vocab[i] for i in translate_sentence]))\n",
    "\n",
    "print('\\nPrediction')\n",
    "print('  Word Ids:      {}'.format([i for i in translate_logits]))\n",
    "print('  French Words: {}'.format(\" \".join([target_int_to_vocab[i] for i in translate_logits])))\n"
   ]
  },
  {
   "cell_type": "markdown",
   "metadata": {},
   "source": [
    "## Imperfect Translation\n",
    "You might notice that some sentences translate better than others.  Since the dataset you're using only has a vocabulary of 227 English words of the thousands that you use, you're only going to see good results using these words.  For this project, you don't need a perfect translation. However, if you want to create a better translation model, you'll need better data.\n",
    "\n",
    "You can train on the [WMT10 French-English corpus](http://www.statmt.org/wmt10/training-giga-fren.tar).  This dataset has more vocabulary and richer in topics discussed.  However, this will take you days to train, so make sure you've a GPU and the neural network is performing well on dataset we provided.  Just make sure you play with the WMT10 corpus after you've submitted this project.\n",
    "## Submitting This Project\n",
    "When submitting this project, make sure to run all the cells before saving the notebook. Save the notebook file as \"dlnd_language_translation.ipynb\" and save it as a HTML file under \"File\" -> \"Download as\". Include the \"helper.py\" and \"problem_unittests.py\" files in your submission."
   ]
  }
 ],
 "metadata": {
  "anaconda-cloud": {},
  "kernelspec": {
   "display_name": "Python 3",
   "language": "python",
   "name": "python3"
  },
  "language_info": {
   "codemirror_mode": {
    "name": "ipython",
    "version": 3
   },
   "file_extension": ".py",
   "mimetype": "text/x-python",
   "name": "python",
   "nbconvert_exporter": "python",
   "pygments_lexer": "ipython3",
   "version": "3.6.1"
  }
 },
 "nbformat": 4,
 "nbformat_minor": 1
}
